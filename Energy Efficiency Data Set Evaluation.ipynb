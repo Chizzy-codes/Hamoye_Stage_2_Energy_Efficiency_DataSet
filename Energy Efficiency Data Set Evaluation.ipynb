{
 "cells": [
  {
   "cell_type": "code",
   "execution_count": 1,
   "metadata": {
    "ExecuteTime": {
     "end_time": "2020-08-04T02:11:43.310479Z",
     "start_time": "2020-08-04T02:11:41.919735Z"
    }
   },
   "outputs": [],
   "source": [
    "import pandas as pd\n",
    "import numpy as np\n",
    "import seaborn as sns\n",
    "import matplotlib.pyplot as plt\n",
    "\n",
    "%matplotlib inline\n",
    "sns.set()"
   ]
  },
  {
   "cell_type": "markdown",
   "metadata": {},
   "source": [
    "# Importing the data"
   ]
  },
  {
   "cell_type": "code",
   "execution_count": 2,
   "metadata": {
    "ExecuteTime": {
     "end_time": "2020-08-04T02:11:46.034497Z",
     "start_time": "2020-08-04T02:11:45.395079Z"
    }
   },
   "outputs": [],
   "source": [
    "df = pd.read_excel('ENB2012_data.xlsx')\n",
    "\n",
    "# df=pd.read_excel('https://archive.ics.uci.edu/ml/machine-learning-databases/00242/ENB2012_data.xlsx')"
   ]
  },
  {
   "cell_type": "code",
   "execution_count": 3,
   "metadata": {
    "ExecuteTime": {
     "end_time": "2020-08-04T02:11:51.545295Z",
     "start_time": "2020-08-04T02:11:51.521287Z"
    }
   },
   "outputs": [
    {
     "name": "stdout",
     "output_type": "stream",
     "text": [
      "<class 'pandas.core.frame.DataFrame'>\n",
      "RangeIndex: 768 entries, 0 to 767\n",
      "Data columns (total 10 columns):\n",
      "X1    768 non-null float64\n",
      "X2    768 non-null float64\n",
      "X3    768 non-null float64\n",
      "X4    768 non-null float64\n",
      "X5    768 non-null float64\n",
      "X6    768 non-null int64\n",
      "X7    768 non-null float64\n",
      "X8    768 non-null int64\n",
      "Y1    768 non-null float64\n",
      "Y2    768 non-null float64\n",
      "dtypes: float64(8), int64(2)\n",
      "memory usage: 60.1 KB\n"
     ]
    }
   ],
   "source": [
    "df.info()"
   ]
  },
  {
   "cell_type": "code",
   "execution_count": 4,
   "metadata": {
    "ExecuteTime": {
     "end_time": "2020-08-04T02:11:52.706142Z",
     "start_time": "2020-08-04T02:11:52.634081Z"
    }
   },
   "outputs": [
    {
     "data": {
      "text/html": [
       "<div>\n",
       "<style scoped>\n",
       "    .dataframe tbody tr th:only-of-type {\n",
       "        vertical-align: middle;\n",
       "    }\n",
       "\n",
       "    .dataframe tbody tr th {\n",
       "        vertical-align: top;\n",
       "    }\n",
       "\n",
       "    .dataframe thead th {\n",
       "        text-align: right;\n",
       "    }\n",
       "</style>\n",
       "<table border=\"1\" class=\"dataframe\">\n",
       "  <thead>\n",
       "    <tr style=\"text-align: right;\">\n",
       "      <th></th>\n",
       "      <th>X1</th>\n",
       "      <th>X2</th>\n",
       "      <th>X3</th>\n",
       "      <th>X4</th>\n",
       "      <th>X5</th>\n",
       "      <th>X6</th>\n",
       "      <th>X7</th>\n",
       "      <th>X8</th>\n",
       "      <th>Y1</th>\n",
       "      <th>Y2</th>\n",
       "    </tr>\n",
       "  </thead>\n",
       "  <tbody>\n",
       "    <tr>\n",
       "      <th>0</th>\n",
       "      <td>0.98</td>\n",
       "      <td>514.5</td>\n",
       "      <td>294.0</td>\n",
       "      <td>110.25</td>\n",
       "      <td>7.0</td>\n",
       "      <td>2</td>\n",
       "      <td>0.0</td>\n",
       "      <td>0</td>\n",
       "      <td>15.55</td>\n",
       "      <td>21.33</td>\n",
       "    </tr>\n",
       "    <tr>\n",
       "      <th>1</th>\n",
       "      <td>0.98</td>\n",
       "      <td>514.5</td>\n",
       "      <td>294.0</td>\n",
       "      <td>110.25</td>\n",
       "      <td>7.0</td>\n",
       "      <td>3</td>\n",
       "      <td>0.0</td>\n",
       "      <td>0</td>\n",
       "      <td>15.55</td>\n",
       "      <td>21.33</td>\n",
       "    </tr>\n",
       "    <tr>\n",
       "      <th>2</th>\n",
       "      <td>0.98</td>\n",
       "      <td>514.5</td>\n",
       "      <td>294.0</td>\n",
       "      <td>110.25</td>\n",
       "      <td>7.0</td>\n",
       "      <td>4</td>\n",
       "      <td>0.0</td>\n",
       "      <td>0</td>\n",
       "      <td>15.55</td>\n",
       "      <td>21.33</td>\n",
       "    </tr>\n",
       "    <tr>\n",
       "      <th>3</th>\n",
       "      <td>0.98</td>\n",
       "      <td>514.5</td>\n",
       "      <td>294.0</td>\n",
       "      <td>110.25</td>\n",
       "      <td>7.0</td>\n",
       "      <td>5</td>\n",
       "      <td>0.0</td>\n",
       "      <td>0</td>\n",
       "      <td>15.55</td>\n",
       "      <td>21.33</td>\n",
       "    </tr>\n",
       "    <tr>\n",
       "      <th>4</th>\n",
       "      <td>0.90</td>\n",
       "      <td>563.5</td>\n",
       "      <td>318.5</td>\n",
       "      <td>122.50</td>\n",
       "      <td>7.0</td>\n",
       "      <td>2</td>\n",
       "      <td>0.0</td>\n",
       "      <td>0</td>\n",
       "      <td>20.84</td>\n",
       "      <td>28.28</td>\n",
       "    </tr>\n",
       "  </tbody>\n",
       "</table>\n",
       "</div>"
      ],
      "text/plain": [
       "     X1     X2     X3      X4   X5  X6   X7  X8     Y1     Y2\n",
       "0  0.98  514.5  294.0  110.25  7.0   2  0.0   0  15.55  21.33\n",
       "1  0.98  514.5  294.0  110.25  7.0   3  0.0   0  15.55  21.33\n",
       "2  0.98  514.5  294.0  110.25  7.0   4  0.0   0  15.55  21.33\n",
       "3  0.98  514.5  294.0  110.25  7.0   5  0.0   0  15.55  21.33\n",
       "4  0.90  563.5  318.5  122.50  7.0   2  0.0   0  20.84  28.28"
      ]
     },
     "execution_count": 4,
     "metadata": {},
     "output_type": "execute_result"
    }
   ],
   "source": [
    "df.head()"
   ]
  },
  {
   "cell_type": "code",
   "execution_count": 5,
   "metadata": {
    "ExecuteTime": {
     "end_time": "2020-08-04T02:11:57.079715Z",
     "start_time": "2020-08-04T02:11:57.071723Z"
    }
   },
   "outputs": [
    {
     "data": {
      "text/plain": [
       "X1    0\n",
       "X2    0\n",
       "X3    0\n",
       "X4    0\n",
       "X5    0\n",
       "X6    0\n",
       "X7    0\n",
       "X8    0\n",
       "Y1    0\n",
       "Y2    0\n",
       "dtype: int64"
      ]
     },
     "execution_count": 5,
     "metadata": {},
     "output_type": "execute_result"
    }
   ],
   "source": [
    "df.isnull().sum()"
   ]
  },
  {
   "cell_type": "code",
   "execution_count": 6,
   "metadata": {
    "ExecuteTime": {
     "end_time": "2020-08-04T02:12:01.468257Z",
     "start_time": "2020-08-04T02:12:01.435860Z"
    }
   },
   "outputs": [
    {
     "data": {
      "text/html": [
       "<div>\n",
       "<style scoped>\n",
       "    .dataframe tbody tr th:only-of-type {\n",
       "        vertical-align: middle;\n",
       "    }\n",
       "\n",
       "    .dataframe tbody tr th {\n",
       "        vertical-align: top;\n",
       "    }\n",
       "\n",
       "    .dataframe thead th {\n",
       "        text-align: right;\n",
       "    }\n",
       "</style>\n",
       "<table border=\"1\" class=\"dataframe\">\n",
       "  <thead>\n",
       "    <tr style=\"text-align: right;\">\n",
       "      <th></th>\n",
       "      <th>Relative_Compactness</th>\n",
       "      <th>Surface_Area</th>\n",
       "      <th>Wall_Area</th>\n",
       "      <th>Roof_Area</th>\n",
       "      <th>Overall_Height</th>\n",
       "      <th>Orientation</th>\n",
       "      <th>Glazing_Area</th>\n",
       "      <th>Glazing_Area_Distribution</th>\n",
       "      <th>Heating_Load</th>\n",
       "      <th>Cooling_Load</th>\n",
       "    </tr>\n",
       "  </thead>\n",
       "  <tbody>\n",
       "    <tr>\n",
       "      <th>0</th>\n",
       "      <td>0.98</td>\n",
       "      <td>514.5</td>\n",
       "      <td>294.0</td>\n",
       "      <td>110.25</td>\n",
       "      <td>7.0</td>\n",
       "      <td>2</td>\n",
       "      <td>0.0</td>\n",
       "      <td>0</td>\n",
       "      <td>15.55</td>\n",
       "      <td>21.33</td>\n",
       "    </tr>\n",
       "    <tr>\n",
       "      <th>1</th>\n",
       "      <td>0.98</td>\n",
       "      <td>514.5</td>\n",
       "      <td>294.0</td>\n",
       "      <td>110.25</td>\n",
       "      <td>7.0</td>\n",
       "      <td>3</td>\n",
       "      <td>0.0</td>\n",
       "      <td>0</td>\n",
       "      <td>15.55</td>\n",
       "      <td>21.33</td>\n",
       "    </tr>\n",
       "    <tr>\n",
       "      <th>2</th>\n",
       "      <td>0.98</td>\n",
       "      <td>514.5</td>\n",
       "      <td>294.0</td>\n",
       "      <td>110.25</td>\n",
       "      <td>7.0</td>\n",
       "      <td>4</td>\n",
       "      <td>0.0</td>\n",
       "      <td>0</td>\n",
       "      <td>15.55</td>\n",
       "      <td>21.33</td>\n",
       "    </tr>\n",
       "    <tr>\n",
       "      <th>3</th>\n",
       "      <td>0.98</td>\n",
       "      <td>514.5</td>\n",
       "      <td>294.0</td>\n",
       "      <td>110.25</td>\n",
       "      <td>7.0</td>\n",
       "      <td>5</td>\n",
       "      <td>0.0</td>\n",
       "      <td>0</td>\n",
       "      <td>15.55</td>\n",
       "      <td>21.33</td>\n",
       "    </tr>\n",
       "    <tr>\n",
       "      <th>4</th>\n",
       "      <td>0.90</td>\n",
       "      <td>563.5</td>\n",
       "      <td>318.5</td>\n",
       "      <td>122.50</td>\n",
       "      <td>7.0</td>\n",
       "      <td>2</td>\n",
       "      <td>0.0</td>\n",
       "      <td>0</td>\n",
       "      <td>20.84</td>\n",
       "      <td>28.28</td>\n",
       "    </tr>\n",
       "  </tbody>\n",
       "</table>\n",
       "</div>"
      ],
      "text/plain": [
       "   Relative_Compactness  Surface_Area  Wall_Area  Roof_Area  Overall_Height  \\\n",
       "0                  0.98         514.5      294.0     110.25             7.0   \n",
       "1                  0.98         514.5      294.0     110.25             7.0   \n",
       "2                  0.98         514.5      294.0     110.25             7.0   \n",
       "3                  0.98         514.5      294.0     110.25             7.0   \n",
       "4                  0.90         563.5      318.5     122.50             7.0   \n",
       "\n",
       "   Orientation  Glazing_Area  Glazing_Area_Distribution  Heating_Load  \\\n",
       "0            2           0.0                          0         15.55   \n",
       "1            3           0.0                          0         15.55   \n",
       "2            4           0.0                          0         15.55   \n",
       "3            5           0.0                          0         15.55   \n",
       "4            2           0.0                          0         20.84   \n",
       "\n",
       "   Cooling_Load  \n",
       "0         21.33  \n",
       "1         21.33  \n",
       "2         21.33  \n",
       "3         21.33  \n",
       "4         28.28  "
      ]
     },
     "execution_count": 6,
     "metadata": {},
     "output_type": "execute_result"
    }
   ],
   "source": [
    "column_names = {'X1':'Relative_Compactness', 'X2': 'Surface_Area',\n",
    "'X3': 'Wall_Area', 'X4': 'Roof_Area', 'X5': 'Overall_Height',\n",
    "'X6': 'Orientation', 'X7': 'Glazing_Area',\n",
    "'X8': 'Glazing_Area_Distribution',\n",
    "'Y1': 'Heating_Load', 'Y2': 'Cooling_Load'}\n",
    "\n",
    "df.rename(columns=column_names, inplace=True)\n",
    "df.head()"
   ]
  },
  {
   "cell_type": "markdown",
   "metadata": {},
   "source": [
    "## From the dataframe above, we can say that\n",
    "- No null or categorical variables are present\n",
    "- we have 8 input variables and 2 output variables"
   ]
  },
  {
   "cell_type": "markdown",
   "metadata": {},
   "source": [
    "# The task here is to make use of the input variables to predict the 2 output variables (Regression)"
   ]
  },
  {
   "cell_type": "markdown",
   "metadata": {},
   "source": [
    "## Exploratory Data Analysis"
   ]
  },
  {
   "cell_type": "code",
   "execution_count": 7,
   "metadata": {
    "ExecuteTime": {
     "end_time": "2020-08-04T02:12:07.533131Z",
     "start_time": "2020-08-04T02:12:07.421131Z"
    },
    "scrolled": false
   },
   "outputs": [
    {
     "data": {
      "text/html": [
       "<div>\n",
       "<style scoped>\n",
       "    .dataframe tbody tr th:only-of-type {\n",
       "        vertical-align: middle;\n",
       "    }\n",
       "\n",
       "    .dataframe tbody tr th {\n",
       "        vertical-align: top;\n",
       "    }\n",
       "\n",
       "    .dataframe thead th {\n",
       "        text-align: right;\n",
       "    }\n",
       "</style>\n",
       "<table border=\"1\" class=\"dataframe\">\n",
       "  <thead>\n",
       "    <tr style=\"text-align: right;\">\n",
       "      <th></th>\n",
       "      <th>Relative_Compactness</th>\n",
       "      <th>Surface_Area</th>\n",
       "      <th>Wall_Area</th>\n",
       "      <th>Roof_Area</th>\n",
       "      <th>Overall_Height</th>\n",
       "      <th>Orientation</th>\n",
       "      <th>Glazing_Area</th>\n",
       "      <th>Glazing_Area_Distribution</th>\n",
       "      <th>Heating_Load</th>\n",
       "      <th>Cooling_Load</th>\n",
       "    </tr>\n",
       "  </thead>\n",
       "  <tbody>\n",
       "    <tr>\n",
       "      <th>count</th>\n",
       "      <td>768.000000</td>\n",
       "      <td>768.000000</td>\n",
       "      <td>768.000000</td>\n",
       "      <td>768.000000</td>\n",
       "      <td>768.00000</td>\n",
       "      <td>768.000000</td>\n",
       "      <td>768.000000</td>\n",
       "      <td>768.00000</td>\n",
       "      <td>768.000000</td>\n",
       "      <td>768.000000</td>\n",
       "    </tr>\n",
       "    <tr>\n",
       "      <th>mean</th>\n",
       "      <td>0.764167</td>\n",
       "      <td>671.708333</td>\n",
       "      <td>318.500000</td>\n",
       "      <td>176.604167</td>\n",
       "      <td>5.25000</td>\n",
       "      <td>3.500000</td>\n",
       "      <td>0.234375</td>\n",
       "      <td>2.81250</td>\n",
       "      <td>22.307195</td>\n",
       "      <td>24.587760</td>\n",
       "    </tr>\n",
       "    <tr>\n",
       "      <th>std</th>\n",
       "      <td>0.105777</td>\n",
       "      <td>88.086116</td>\n",
       "      <td>43.626481</td>\n",
       "      <td>45.165950</td>\n",
       "      <td>1.75114</td>\n",
       "      <td>1.118763</td>\n",
       "      <td>0.133221</td>\n",
       "      <td>1.55096</td>\n",
       "      <td>10.090204</td>\n",
       "      <td>9.513306</td>\n",
       "    </tr>\n",
       "    <tr>\n",
       "      <th>min</th>\n",
       "      <td>0.620000</td>\n",
       "      <td>514.500000</td>\n",
       "      <td>245.000000</td>\n",
       "      <td>110.250000</td>\n",
       "      <td>3.50000</td>\n",
       "      <td>2.000000</td>\n",
       "      <td>0.000000</td>\n",
       "      <td>0.00000</td>\n",
       "      <td>6.010000</td>\n",
       "      <td>10.900000</td>\n",
       "    </tr>\n",
       "    <tr>\n",
       "      <th>25%</th>\n",
       "      <td>0.682500</td>\n",
       "      <td>606.375000</td>\n",
       "      <td>294.000000</td>\n",
       "      <td>140.875000</td>\n",
       "      <td>3.50000</td>\n",
       "      <td>2.750000</td>\n",
       "      <td>0.100000</td>\n",
       "      <td>1.75000</td>\n",
       "      <td>12.992500</td>\n",
       "      <td>15.620000</td>\n",
       "    </tr>\n",
       "    <tr>\n",
       "      <th>50%</th>\n",
       "      <td>0.750000</td>\n",
       "      <td>673.750000</td>\n",
       "      <td>318.500000</td>\n",
       "      <td>183.750000</td>\n",
       "      <td>5.25000</td>\n",
       "      <td>3.500000</td>\n",
       "      <td>0.250000</td>\n",
       "      <td>3.00000</td>\n",
       "      <td>18.950000</td>\n",
       "      <td>22.080000</td>\n",
       "    </tr>\n",
       "    <tr>\n",
       "      <th>75%</th>\n",
       "      <td>0.830000</td>\n",
       "      <td>741.125000</td>\n",
       "      <td>343.000000</td>\n",
       "      <td>220.500000</td>\n",
       "      <td>7.00000</td>\n",
       "      <td>4.250000</td>\n",
       "      <td>0.400000</td>\n",
       "      <td>4.00000</td>\n",
       "      <td>31.667500</td>\n",
       "      <td>33.132500</td>\n",
       "    </tr>\n",
       "    <tr>\n",
       "      <th>max</th>\n",
       "      <td>0.980000</td>\n",
       "      <td>808.500000</td>\n",
       "      <td>416.500000</td>\n",
       "      <td>220.500000</td>\n",
       "      <td>7.00000</td>\n",
       "      <td>5.000000</td>\n",
       "      <td>0.400000</td>\n",
       "      <td>5.00000</td>\n",
       "      <td>43.100000</td>\n",
       "      <td>48.030000</td>\n",
       "    </tr>\n",
       "  </tbody>\n",
       "</table>\n",
       "</div>"
      ],
      "text/plain": [
       "       Relative_Compactness  Surface_Area   Wall_Area   Roof_Area  \\\n",
       "count            768.000000    768.000000  768.000000  768.000000   \n",
       "mean               0.764167    671.708333  318.500000  176.604167   \n",
       "std                0.105777     88.086116   43.626481   45.165950   \n",
       "min                0.620000    514.500000  245.000000  110.250000   \n",
       "25%                0.682500    606.375000  294.000000  140.875000   \n",
       "50%                0.750000    673.750000  318.500000  183.750000   \n",
       "75%                0.830000    741.125000  343.000000  220.500000   \n",
       "max                0.980000    808.500000  416.500000  220.500000   \n",
       "\n",
       "       Overall_Height  Orientation  Glazing_Area  Glazing_Area_Distribution  \\\n",
       "count       768.00000   768.000000    768.000000                  768.00000   \n",
       "mean          5.25000     3.500000      0.234375                    2.81250   \n",
       "std           1.75114     1.118763      0.133221                    1.55096   \n",
       "min           3.50000     2.000000      0.000000                    0.00000   \n",
       "25%           3.50000     2.750000      0.100000                    1.75000   \n",
       "50%           5.25000     3.500000      0.250000                    3.00000   \n",
       "75%           7.00000     4.250000      0.400000                    4.00000   \n",
       "max           7.00000     5.000000      0.400000                    5.00000   \n",
       "\n",
       "       Heating_Load  Cooling_Load  \n",
       "count    768.000000    768.000000  \n",
       "mean      22.307195     24.587760  \n",
       "std       10.090204      9.513306  \n",
       "min        6.010000     10.900000  \n",
       "25%       12.992500     15.620000  \n",
       "50%       18.950000     22.080000  \n",
       "75%       31.667500     33.132500  \n",
       "max       43.100000     48.030000  "
      ]
     },
     "execution_count": 7,
     "metadata": {},
     "output_type": "execute_result"
    }
   ],
   "source": [
    "df.describe()"
   ]
  },
  {
   "cell_type": "code",
   "execution_count": 8,
   "metadata": {
    "ExecuteTime": {
     "end_time": "2020-08-04T02:12:09.173843Z",
     "start_time": "2020-08-04T02:12:07.883889Z"
    }
   },
   "outputs": [
    {
     "data": {
      "text/plain": [
       "<matplotlib.axes._subplots.AxesSubplot at 0x1b04b0e8438>"
      ]
     },
     "execution_count": 8,
     "metadata": {},
     "output_type": "execute_result"
    },
    {
     "data": {
      "image/png": "[encoded data removed]",
      "text/plain": [
       "<Figure size 432x288 with 1 Axes>"
      ]
     },
     "metadata": {
      "needs_background": "light"
     },
     "output_type": "display_data"
    }
   ],
   "source": [
    "#select a sample of the dataset\n",
    "simple_linear_reg_df = df[['Relative_Compactness',\n",
    "                           'Cooling_Load']].sample(15, random_state=2)\n",
    "\n",
    "#regression plot\n",
    "sns.regplot(x=\"Relative_Compactness\",\n",
    "            y=\"Cooling_Load\",\n",
    "            data=simple_linear_reg_df)"
   ]
  },
  {
   "cell_type": "code",
   "execution_count": 9,
   "metadata": {
    "ExecuteTime": {
     "end_time": "2020-08-04T02:12:10.337354Z",
     "start_time": "2020-08-04T02:12:09.233356Z"
    }
   },
   "outputs": [
    {
     "data": {
      "text/plain": [
       "Text(0.5, 1.0, 'Histograms showing the distribution of variables in the two output variables')"
      ]
     },
     "execution_count": 9,
     "metadata": {},
     "output_type": "execute_result"
    },
    {
     "data": {
      "image/png": "[encoded data removed]",
      "text/plain": [
       "<Figure size 432x288 with 2 Axes>"
      ]
     },
     "metadata": {
      "needs_background": "light"
     },
     "output_type": "display_data"
    }
   ],
   "source": [
    "### Checking to see if the dataset is inbalanced\n",
    "fig, axes = plt.subplots(1,2)\n",
    "axes[0].hist(df['Heating_Load'], bins=50)\n",
    "axes[1].hist(df['Cooling_Load'],  bins=50)\n",
    "plt.title('Histograms showing the distribution of variables in the two output variables')"
   ]
  },
  {
   "cell_type": "markdown",
   "metadata": {
    "ExecuteTime": {
     "end_time": "2020-08-03T17:52:35.629802Z",
     "start_time": "2020-08-03T17:52:35.614806Z"
    }
   },
   "source": [
    "### There seem to be a similarity between the two outputs variables"
   ]
  },
  {
   "cell_type": "code",
   "execution_count": 11,
   "metadata": {
    "ExecuteTime": {
     "end_time": "2020-08-04T02:13:05.239799Z",
     "start_time": "2020-08-04T02:13:04.456810Z"
    }
   },
   "outputs": [
    {
     "data": {
      "text/plain": [
       "<matplotlib.axes._subplots.AxesSubplot at 0x1b04bc36748>"
      ]
     },
     "execution_count": 11,
     "metadata": {},
     "output_type": "execute_result"
    },
    {
     "data": {
      "image/png": "[encoded data removed]",
      "text/plain": [
       "<Figure size 432x288 with 2 Axes>"
      ]
     },
     "metadata": {
      "needs_background": "light"
     },
     "output_type": "display_data"
    }
   ],
   "source": [
    "sns.heatmap(df.drop(['Heating_Load', 'Cooling_Load'], axis=1).corr(), annot=True, cmap='coolwarm')"
   ]
  },
  {
   "cell_type": "code",
   "execution_count": 12,
   "metadata": {
    "ExecuteTime": {
     "end_time": "2020-08-04T02:13:41.375778Z",
     "start_time": "2020-08-04T02:13:40.276891Z"
    }
   },
   "outputs": [
    {
     "data": {
      "text/plain": [
       "<seaborn.matrix.ClusterGrid at 0x1b04ca4a978>"
      ]
     },
     "execution_count": 12,
     "metadata": {},
     "output_type": "execute_result"
    },
    {
     "data": {
      "image/png": "[encoded data removed]",
      "text/plain": [
       "<Figure size 720x720 with 4 Axes>"
      ]
     },
     "metadata": {
      "needs_background": "light"
     },
     "output_type": "display_data"
    }
   ],
   "source": [
    "sns.clustermap(df.drop(['Heating_Load', 'Cooling_Load'], axis=1).corr(), annot=True, cmap='coolwarm')"
   ]
  },
  {
   "cell_type": "markdown",
   "metadata": {},
   "source": [
    "### There are some obvious relationships(direct and inverse) between the first five features and also a slight relationship between Glazing area and glazing area distribution."
   ]
  },
  {
   "cell_type": "code",
   "execution_count": 13,
   "metadata": {
    "ExecuteTime": {
     "end_time": "2020-08-04T02:14:23.700482Z",
     "start_time": "2020-08-04T02:14:22.525620Z"
    }
   },
   "outputs": [
    {
     "data": {
      "text/plain": [
       "Text(0.5, 1.0, 'Heatmap showing correlations between the input and output variables')"
      ]
     },
     "execution_count": 13,
     "metadata": {},
     "output_type": "execute_result"
    },
    {
     "data": {
      "image/png": "[encoded data removed]",
      "text/plain": [
       "<Figure size 864x432 with 2 Axes>"
      ]
     },
     "metadata": {
      "needs_background": "light"
     },
     "output_type": "display_data"
    }
   ],
   "source": [
    "# creating a heatmap to check for correlation between the input and output variables\n",
    "\n",
    "plt.figure(figsize=(12,6))\n",
    "sns.heatmap(df.corr(), cmap='coolwarm', annot=True)\n",
    "plt.tight_layout(pad=3.0, h_pad=3.0, w_pad=3.0)\n",
    "plt.title('Heatmap showing correlations between the input and output variables')"
   ]
  },
  {
   "cell_type": "markdown",
   "metadata": {
    "ExecuteTime": {
     "end_time": "2020-08-03T17:45:03.987044Z",
     "start_time": "2020-08-03T17:45:03.973044Z"
    }
   },
   "source": [
    "## Feature Selection"
   ]
  },
  {
   "cell_type": "code",
   "execution_count": 14,
   "metadata": {
    "ExecuteTime": {
     "end_time": "2020-08-04T02:18:17.405744Z",
     "start_time": "2020-08-04T02:18:17.373795Z"
    }
   },
   "outputs": [],
   "source": [
    "## droping the X6 and X8 features as they show very little correlations to the output features\n",
    "\n",
    "newdf = df.drop(['Orientation', 'Glazing_Area_Distribution'], axis=1)"
   ]
  },
  {
   "cell_type": "markdown",
   "metadata": {
    "ExecuteTime": {
     "end_time": "2020-08-03T17:47:49.597173Z",
     "start_time": "2020-08-03T17:47:49.580130Z"
    }
   },
   "source": [
    "## Feature Scaling"
   ]
  },
  {
   "cell_type": "code",
   "execution_count": 17,
   "metadata": {
    "ExecuteTime": {
     "end_time": "2020-08-04T02:36:18.621985Z",
     "start_time": "2020-08-04T02:36:18.557661Z"
    }
   },
   "outputs": [],
   "source": [
    "from sklearn.preprocessing import MinMaxScaler\n",
    "\n",
    "scaler = MinMaxScaler()\n",
    "df = pd.DataFrame(scaler.fit_transform(df), columns=df.columns)\n",
    "\n",
    "X = df.drop(['Heating_Load', 'Cooling_Load'], axis=1)\n",
    "heating_target= df['Heating_Load']\n",
    "\n"
   ]
  },
  {
   "cell_type": "code",
   "execution_count": 18,
   "metadata": {
    "ExecuteTime": {
     "end_time": "2020-08-04T02:36:53.243517Z",
     "start_time": "2020-08-04T02:36:52.997316Z"
    }
   },
   "outputs": [],
   "source": [
    "## Feature Separation\n",
    "from sklearn.model_selection import train_test_split"
   ]
  },
  {
   "cell_type": "code",
   "execution_count": 19,
   "metadata": {
    "ExecuteTime": {
     "end_time": "2020-08-04T02:37:47.340090Z",
     "start_time": "2020-08-04T02:37:47.298083Z"
    }
   },
   "outputs": [],
   "source": [
    "X_train, X_test, y_train, y_test = train_test_split(X, heating_target, test_size= 0.3, random_state=1)"
   ]
  },
  {
   "cell_type": "markdown",
   "metadata": {
    "ExecuteTime": {
     "end_time": "2020-08-03T18:35:32.321636Z",
     "start_time": "2020-08-03T18:35:32.300610Z"
    }
   },
   "source": [
    "# Building Prediction models and evaluating them usung different measures"
   ]
  },
  {
   "cell_type": "code",
   "execution_count": 20,
   "metadata": {
    "ExecuteTime": {
     "end_time": "2020-08-04T02:37:50.153186Z",
     "start_time": "2020-08-04T02:37:50.129172Z"
    }
   },
   "outputs": [],
   "source": [
    "from sklearn.metrics import r2_score, mean_absolute_error, mean_squared_error"
   ]
  },
  {
   "cell_type": "markdown",
   "metadata": {},
   "source": [
    "## Simple Linear Regression"
   ]
  },
  {
   "cell_type": "code",
   "execution_count": 21,
   "metadata": {
    "ExecuteTime": {
     "end_time": "2020-08-04T02:38:32.327358Z",
     "start_time": "2020-08-04T02:38:31.188513Z"
    }
   },
   "outputs": [
    {
     "data": {
      "text/plain": [
       "LinearRegression(n_jobs=-1)"
      ]
     },
     "execution_count": 21,
     "metadata": {},
     "output_type": "execute_result"
    }
   ],
   "source": [
    "from sklearn.linear_model import LinearRegression\n",
    "\n",
    "model = LinearRegression(n_jobs=-1)\n",
    "\n",
    "model.fit(X_train,y_train)"
   ]
  },
  {
   "cell_type": "code",
   "execution_count": 22,
   "metadata": {
    "ExecuteTime": {
     "end_time": "2020-08-04T02:44:20.833690Z",
     "start_time": "2020-08-04T02:44:20.785733Z"
    }
   },
   "outputs": [
    {
     "name": "stdout",
     "output_type": "stream",
     "text": [
      "Mean absolute Error:  0.06296742865143842\n",
      "Residual Sum of Squares (RSS):  1.816691850708439\n",
      "Root Mean Squared Error:  0.08868182951531683\n",
      "R Squared:  0.8938550769308062\n"
     ]
    }
   ],
   "source": [
    "linear_pred = model.predict(X_test)\n",
    "\n",
    "print('Mean absolute Error: ', mean_absolute_error(y_test, linear_pred))\n",
    "print('Residual Sum of Squares (RSS): ',  np.sum(np.square(y_test - linear_pred)))\n",
    "print('Root Mean Squared Error: ', np.sqrt(mean_squared_error(y_test, linear_pred)))\n",
    "print('R Squared: ', r2_score(y_test, linear_pred))"
   ]
  },
  {
   "cell_type": "markdown",
   "metadata": {
    "ExecuteTime": {
     "end_time": "2020-08-04T02:26:43.058875Z",
     "start_time": "2020-08-04T02:26:43.034877Z"
    }
   },
   "source": [
    "## Feature Selection and LASSO Regression"
   ]
  },
  {
   "cell_type": "code",
   "execution_count": 25,
   "metadata": {
    "ExecuteTime": {
     "end_time": "2020-08-04T02:48:07.082402Z",
     "start_time": "2020-08-04T02:48:06.830927Z"
    }
   },
   "outputs": [
    {
     "data": {
      "text/plain": [
       "Lasso(alpha=0.001)"
      ]
     },
     "execution_count": 25,
     "metadata": {},
     "output_type": "execute_result"
    }
   ],
   "source": [
    "from sklearn.linear_model import Lasso\n",
    "\n",
    "lasso_reg = Lasso(alpha=0.001)\n",
    "\n",
    "lasso_reg.fit(X_train, y_train)"
   ]
  },
  {
   "cell_type": "code",
   "execution_count": 26,
   "metadata": {
    "ExecuteTime": {
     "end_time": "2020-08-04T02:50:29.179011Z",
     "start_time": "2020-08-04T02:50:29.130959Z"
    }
   },
   "outputs": [
    {
     "name": "stdout",
     "output_type": "stream",
     "text": [
      "Mean absolute Error:  0.06558614505797825\n",
      "Residual Sum of Squares (RSS):  1.9203832200369055\n",
      "Root Mean Squared Error:  0.09117755904216254\n",
      "R Squared:  0.8877966403192161\n"
     ]
    }
   ],
   "source": [
    "lasso_pred = lasso_reg.predict(X_test)\n",
    "\n",
    "print('Mean absolute Error: ', mean_absolute_error(y_test, lasso_pred))\n",
    "print('Residual Sum of Squares (RSS): ',  np.sum(np.square(y_test - lasso_pred)))\n",
    "print('Root Mean Squared Error: ', np.sqrt(mean_squared_error(y_test, lasso_pred)))\n",
    "print('R Squared: ', r2_score(y_test, lasso_pred))"
   ]
  },
  {
   "cell_type": "markdown",
   "metadata": {
    "ExecuteTime": {
     "end_time": "2020-08-04T02:26:39.336470Z",
     "start_time": "2020-08-04T02:26:39.328481Z"
    }
   },
   "source": [
    "## RIDGE Regression"
   ]
  },
  {
   "cell_type": "code",
   "execution_count": 28,
   "metadata": {
    "ExecuteTime": {
     "end_time": "2020-08-04T02:52:36.230006Z",
     "start_time": "2020-08-04T02:52:35.798082Z"
    }
   },
   "outputs": [
    {
     "data": {
      "text/plain": [
       "Ridge(alpha=0.5)"
      ]
     },
     "execution_count": 28,
     "metadata": {},
     "output_type": "execute_result"
    }
   ],
   "source": [
    "from sklearn.linear_model import Ridge\n",
    "\n",
    "ridge_reg = Ridge(alpha=0.5)\n",
    "\n",
    "ridge_reg.fit(X_train, y_train)"
   ]
  },
  {
   "cell_type": "code",
   "execution_count": 29,
   "metadata": {
    "ExecuteTime": {
     "end_time": "2020-08-04T02:53:59.375528Z",
     "start_time": "2020-08-04T02:53:59.319538Z"
    }
   },
   "outputs": [
    {
     "name": "stdout",
     "output_type": "stream",
     "text": [
      "Mean absolute Error:  0.06400095031479862\n",
      "Residual Sum of Squares (RSS):  1.8484143654097434\n",
      "Root Mean Squared Error:  0.08945274612695\n",
      "R Squared:  0.8920016069098898\n"
     ]
    }
   ],
   "source": [
    "ridge_pred = ridge_reg.predict(X_test)\n",
    "\n",
    "print('Mean absolute Error: ', mean_absolute_error(y_test, ridge_pred))\n",
    "print('Residual Sum of Squares (RSS): ',  np.sum(np.square(y_test - ridge_pred)))\n",
    "print('Root Mean Squared Error: ', np.sqrt(mean_squared_error(y_test, ridge_pred)))\n",
    "print('R Squared: ', r2_score(y_test, ridge_pred))"
   ]
  },
  {
   "cell_type": "markdown",
   "metadata": {},
   "source": [
    "## Elastic Net Regression"
   ]
  },
  {
   "cell_type": "code",
   "execution_count": 56,
   "metadata": {
    "ExecuteTime": {
     "end_time": "2020-08-04T03:08:43.112040Z",
     "start_time": "2020-08-04T03:08:43.040053Z"
    }
   },
   "outputs": [
    {
     "data": {
      "text/plain": [
       "ElasticNet(alpha=1e-08, max_iter=10000)"
      ]
     },
     "execution_count": 56,
     "metadata": {},
     "output_type": "execute_result"
    }
   ],
   "source": [
    "from sklearn.linear_model import ElasticNet\n",
    "\n",
    "emodel = ElasticNet(alpha=0.00000001, max_iter=10000)\n",
    "\n",
    "emodel.fit(X_train, y_train)"
   ]
  },
  {
   "cell_type": "code",
   "execution_count": 57,
   "metadata": {
    "ExecuteTime": {
     "end_time": "2020-08-04T03:08:46.550790Z",
     "start_time": "2020-08-04T03:08:46.526752Z"
    }
   },
   "outputs": [
    {
     "name": "stdout",
     "output_type": "stream",
     "text": [
      "Mean absolute Error:  0.06296743494310293\n",
      "Residual Sum of Squares (RSS):  1.816692185237924\n",
      "Root Mean Squared Error:  0.0886818376803464\n",
      "R Squared:  0.8938550573850553\n"
     ]
    }
   ],
   "source": [
    "e_pred = emodel.predict(X_test)\n",
    "\n",
    "print('Mean absolute Error: ', mean_absolute_error(y_test, e_pred))\n",
    "print('Residual Sum of Squares (RSS): ',  np.sum(np.square(y_test - e_pred)))\n",
    "print('Root Mean Squared Error: ', np.sqrt(mean_squared_error(y_test, e_pred)))\n",
    "print('R Squared: ', r2_score(y_test, e_pred))"
   ]
  },
  {
   "cell_type": "markdown",
   "metadata": {},
   "source": [
    "# comparing the effects of regularisation"
   ]
  },
  {
   "cell_type": "code",
   "execution_count": 36,
   "metadata": {
    "ExecuteTime": {
     "end_time": "2020-08-04T03:03:39.343526Z",
     "start_time": "2020-08-04T03:03:39.255515Z"
    }
   },
   "outputs": [
    {
     "data": {
      "text/html": [
       "<div>\n",
       "<style scoped>\n",
       "    .dataframe tbody tr th:only-of-type {\n",
       "        vertical-align: middle;\n",
       "    }\n",
       "\n",
       "    .dataframe tbody tr th {\n",
       "        vertical-align: top;\n",
       "    }\n",
       "\n",
       "    .dataframe thead th {\n",
       "        text-align: right;\n",
       "    }\n",
       "</style>\n",
       "<table border=\"1\" class=\"dataframe\">\n",
       "  <thead>\n",
       "    <tr style=\"text-align: right;\">\n",
       "      <th></th>\n",
       "      <th>Features</th>\n",
       "      <th>Linear_Model_Weight</th>\n",
       "      <th>Ridge_Weight</th>\n",
       "      <th>Lasso_weight</th>\n",
       "    </tr>\n",
       "  </thead>\n",
       "  <tbody>\n",
       "    <tr>\n",
       "      <th>0</th>\n",
       "      <td>Relative_Compactness</td>\n",
       "      <td>-0.606412</td>\n",
       "      <td>-0.283471</td>\n",
       "      <td>-0.027719</td>\n",
       "    </tr>\n",
       "    <tr>\n",
       "      <th>1</th>\n",
       "      <td>Roof_Area</td>\n",
       "      <td>-0.328099</td>\n",
       "      <td>-0.163192</td>\n",
       "      <td>-0.000000</td>\n",
       "    </tr>\n",
       "    <tr>\n",
       "      <th>2</th>\n",
       "      <td>Surface_Area</td>\n",
       "      <td>-0.235022</td>\n",
       "      <td>-0.062275</td>\n",
       "      <td>0.000000</td>\n",
       "    </tr>\n",
       "    <tr>\n",
       "      <th>3</th>\n",
       "      <td>Orientation</td>\n",
       "      <td>0.003399</td>\n",
       "      <td>0.003369</td>\n",
       "      <td>0.000000</td>\n",
       "    </tr>\n",
       "    <tr>\n",
       "      <th>4</th>\n",
       "      <td>Wall_Area</td>\n",
       "      <td>0.018947</td>\n",
       "      <td>0.103061</td>\n",
       "      <td>0.200087</td>\n",
       "    </tr>\n",
       "    <tr>\n",
       "      <th>5</th>\n",
       "      <td>Glazing_Area_Distribution</td>\n",
       "      <td>0.028452</td>\n",
       "      <td>0.029088</td>\n",
       "      <td>0.021431</td>\n",
       "    </tr>\n",
       "    <tr>\n",
       "      <th>6</th>\n",
       "      <td>Glazing_Area</td>\n",
       "      <td>0.215042</td>\n",
       "      <td>0.212449</td>\n",
       "      <td>0.206132</td>\n",
       "    </tr>\n",
       "    <tr>\n",
       "      <th>7</th>\n",
       "      <td>Overall_Height</td>\n",
       "      <td>0.393549</td>\n",
       "      <td>0.442467</td>\n",
       "      <td>0.463482</td>\n",
       "    </tr>\n",
       "  </tbody>\n",
       "</table>\n",
       "</div>"
      ],
      "text/plain": [
       "                    Features  Linear_Model_Weight  Ridge_Weight  Lasso_weight\n",
       "0       Relative_Compactness            -0.606412     -0.283471     -0.027719\n",
       "1                  Roof_Area            -0.328099     -0.163192     -0.000000\n",
       "2               Surface_Area            -0.235022     -0.062275      0.000000\n",
       "3                Orientation             0.003399      0.003369      0.000000\n",
       "4                  Wall_Area             0.018947      0.103061      0.200087\n",
       "5  Glazing_Area_Distribution             0.028452      0.029088      0.021431\n",
       "6               Glazing_Area             0.215042      0.212449      0.206132\n",
       "7             Overall_Height             0.393549      0.442467      0.463482"
      ]
     },
     "execution_count": 36,
     "metadata": {},
     "output_type": "execute_result"
    }
   ],
   "source": [
    "def get_weights_df(model, feat, col_name):\n",
    "    #this function returns the weight of every feature\n",
    "    weights = pd.Series(model.coef_, feat.columns).sort_values()\n",
    "    weights_df = pd.DataFrame(weights).reset_index()\n",
    "    weights_df.columns = ['Features', col_name]\n",
    "    weights_df[col_name].round(3)\n",
    "    return weights_df\n",
    "\n",
    "linear_model_weights = get_weights_df(model, X_train, 'Linear_Model_Weight')\n",
    "ridge_weights_df = get_weights_df(ridge_reg, X_train, 'Ridge_Weight')\n",
    "lasso_weights_df = get_weights_df(lasso_reg, X_train, 'Lasso_weight')\n",
    "final_weights = pd.merge(linear_model_weights, ridge_weights_df, on='Features')\n",
    "final_weights = pd.merge(final_weights, lasso_weights_df, on='Features')\n",
    "\n",
    "final_weights"
   ]
  },
  {
   "cell_type": "markdown",
   "metadata": {
    "ExecuteTime": {
     "end_time": "2020-08-04T03:42:07.556883Z",
     "start_time": "2020-08-04T03:42:07.532854Z"
    }
   },
   "source": [
    "# The Best model was the linear Model and the best metric was the R Squared"
   ]
  }
 ],
 "metadata": {
  "kernelspec": {
   "display_name": "Python 3",
   "language": "python",
   "name": "python3"
  },
  "language_info": {
   "codemirror_mode": {
    "name": "ipython",
    "version": 3
   },
   "file_extension": ".py",
   "mimetype": "text/x-python",
   "name": "python",
   "nbconvert_exporter": "python",
   "pygments_lexer": "ipython3",
   "version": "3.7.3"
  },
  "notify_time": "5",
  "toc": {
   "base_numbering": 1,
   "nav_menu": {},
   "number_sections": true,
   "sideBar": true,
   "skip_h1_title": false,
   "title_cell": "Table of Contents",
   "title_sidebar": "Contents",
   "toc_cell": false,
   "toc_position": {},
   "toc_section_display": true,
   "toc_window_display": false
  },
  "varInspector": {
   "cols": {
    "lenName": 16,
    "lenType": 16,
    "lenVar": 40
   },
   "kernels_config": {
    "python": {
     "delete_cmd_postfix": "",
     "delete_cmd_prefix": "del ",
     "library": "var_list.py",
     "varRefreshCmd": "print(var_dic_list())"
    },
    "r": {
     "delete_cmd_postfix": ") ",
     "delete_cmd_prefix": "rm(",
     "library": "var_list.r",
     "varRefreshCmd": "cat(var_dic_list()) "
    }
   },
   "types_to_exclude": [
    "module",
    "function",
    "builtin_function_or_method",
    "instance",
    "_Feature"
   ],
   "window_display": false
  }
 },
 "nbformat": 4,
 "nbformat_minor": 2
}
